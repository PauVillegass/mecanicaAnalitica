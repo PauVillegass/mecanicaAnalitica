{
  "nbformat": 4,
  "nbformat_minor": 0,
  "metadata": {
    "colab": {
      "provenance": [],
      "include_colab_link": true
    },
    "kernelspec": {
      "name": "python3",
      "display_name": "Python 3"
    },
    "language_info": {
      "name": "python"
    }
  },
  "cells": [
    {
      "cell_type": "markdown",
      "metadata": {
        "id": "view-in-github",
        "colab_type": "text"
      },
      "source": [
        "<a href=\"https://colab.research.google.com/github/PauVillegass/mecanicaAnalitica/blob/main/Prueba1.ipynb\" target=\"_parent\"><img src=\"https://colab.research.google.com/assets/colab-badge.svg\" alt=\"Open In Colab\"/></a>"
      ]
    },
    {
      "cell_type": "markdown",
      "source": [
        "**Cálculo de Rm**"
      ],
      "metadata": {
        "id": "herH7zGWyYHz"
      }
    },
    {
      "cell_type": "code",
      "source": [
        "from sympy import symbols, Eq, solve\n",
        "\n",
        "rm, x = symbols('rm x')\n",
        "Rmin = []\n",
        "\n",
        "for s in [0.05 * i for i in range(1, 101)]:\n",
        "    eq = Eq((rm**2)*(1-1/(1.2*(1+rm)))-s**2, 0)\n",
        "    R = solve(eq, rm)\n",
        "\n",
        "    for i in range(3):\n",
        "        if R[i].is_real and R[i] >= 0:\n",
        "            Rmin.append(R[i])\n",
        "\n"
      ],
      "metadata": {
        "id": "ZzttZLBuyWpB"
      },
      "execution_count": null,
      "outputs": []
    },
    {
      "cell_type": "markdown",
      "source": [
        "**Gauss-Legendre**"
      ],
      "metadata": {
        "id": "m9Y16H6WyNdB"
      }
    },
    {
      "cell_type": "code",
      "source": [
        "import numpy as np\n",
        "\n",
        "def gauss_legendre_quadrature(a, b, n, f):\n",
        "    # Coeficientes y nodos de la cuadratura de Gauss-Legendre\n",
        "    if n == 2:\n",
        "        c = np.array([1, 1])\n",
        "        x = np.array([-1/np.sqrt(3), 1/np.sqrt(3)])\n",
        "    elif n == 3:\n",
        "        c = np.array([5/9, 8/9, 5/9])\n",
        "        x = np.array([-np.sqrt(3/5), 0, np.sqrt(3/5)])\n",
        "    elif n == 4:\n",
        "        c = np.array([(18-np.sqrt(30))/36, (18+np.sqrt(30))/36, (18+np.sqrt(30))/36, (18-np.sqrt(30))/36])\n",
        "        x = np.array([-np.sqrt((3+2*np.sqrt(6/5))/7), -np.sqrt((3-2*np.sqrt(6/5))/7), np.sqrt((3-2*np.sqrt(6/5))/7), np.sqrt((3+2*np.sqrt(6/5))/7)])\n",
        "    elif n == 16:\n",
        "        c = np.array([0.02715246, 0.06225352, 0.09515851, 0.12462897, 0.14959599, 0.16915652,\n",
        "                      0.18260342, 0.18945061, 0.18945061, 0.18260342, 0.16915652, 0.14959599,\n",
        "                      0.12462897, 0.09515851, 0.06225352, 0.02715246])\n",
        "        x = np.array([-0.98940093, -0.94457502, -0.8656312, -0.75540441, -0.61787624, -0.45801678,\n",
        "                      -0.28160355, -0.09501251, 0.09501251, 0.28160355, 0.45801678, 0.61787624,\n",
        "                      0.75540441, 0.8656312, 0.94457502, 0.98940093])\n",
        "    else:\n",
        "        raise ValueError(\"La cuadratura de Gauss-Legendre solo está implementada para n=2, 3, 4, y 16\")\n",
        "\n",
        "    # Transformación del intervalo [a, b] al intervalo [-1, 1]\n",
        "    t = (b - a) / 2\n",
        "    u = (a + b) / 2\n",
        "\n",
        "    # Evaluación de la integral aproximada\n",
        "    Int = 0\n",
        "    for i in range(n):\n",
        "        Int += c[i] * f(t * x[i] + u)\n",
        "    Int *= t\n",
        "\n",
        "    return Int"
      ],
      "metadata": {
        "id": "4acU_JfMnMox"
      },
      "execution_count": null,
      "outputs": []
    },
    {
      "cell_type": "markdown",
      "source": [
        "**Cálculo de la integral**"
      ],
      "metadata": {
        "id": "GsLAErWEzysC"
      }
    },
    {
      "cell_type": "code",
      "source": [
        "import numpy as np\n",
        "import matplotlib.pyplot as plt\n",
        "\n",
        "Rmin = np.array([0.81274, 1.31745, 1.66631, 1.94455, 2.18524, 2.40386, 2.60931, 2.80688, 2.99948, 3.18955, 3.37802, 3.56543, 3.75208, 3.93817, 4.12385, 4.30922, 4.49434, 4.67928, 4.86407, 5.04875, 5.23335, 5.41787, 5.60234, 5.78676, 5.97114, 6.15548, 6.3398, 6.52409, 6.70838, 6.89266, 7.07695, 7.26124, 7.44554, 7.62985, 7.81418, 7.99852, 8.18287, 8.36725, 8.55165, 8.73607, 8.92052, 9.105, 9.2895, 9.47403, 9.65859, 9.84319, 10.0278, 10.2124, 10.397, 10.5817, 10.7664, 10.9512, 11.136, 11.3209, 11.5058, 11.6907, 11.8757, 12.0607, 12.2458, 12.4309, 12.616, 12.8011, 12.9863, 13.1715, 13.3567, 13.542, 13.7272, 13.9125, 14.0977, 14.283, 14.4683, 14.6536, 14.8388, 15.0241, 15.2094, 15.3947, 15.58, 15.7653, 15.9506, 16.1359, 16.3212, 16.5065, 16.6919, 16.8772, 17.0625, 17.2478, 17.4331, 17.6184, 17.8038, 17.9891, 18.1744, 18.3597, 18.545, 18.7303, 18.9156, 19.101, 19.2863, 19.4716, 19.6569, 19.8422, 20.0275])\n",
        "\n",
        "J2 = np.zeros(100)\n",
        "s = np.arange(0.05, 5.05, 0.05)\n",
        "E = 1.2\n",
        "\n",
        "def I(x, s, Rmin):\n",
        "    V = (1 - x**2) / (1 - x**2 + Rmin)\n",
        "    return 4 * s * x / (np.sqrt((Rmin**2) * (1 - V / E) - (s**2) * (1 - x**2)**2))\n",
        "\n",
        "for i in range(100):\n",
        "    f = lambda x: I(x, s[i], Rmin[i])\n",
        "    J2[i] = 3.14163 - gauss_legendre_quadrature(0, 1, 16, f)\n",
        "\n",
        "\n",
        "plt.plot(s, J2, 'red')\n",
        "plt.xlim(0, 5.05)\n",
        "plt.ylim(2.5, 3.5)\n",
        "plt.xlabel('s')\n",
        "plt.ylabel('J2')\n",
        "plt.title('Gráfico de J2')\n",
        "plt.grid(True)\n",
        "plt.show()\n"
      ],
      "metadata": {
        "colab": {
          "base_uri": "https://localhost:8080/",
          "height": 472
        },
        "id": "fX4xAnBNz1m8",
        "outputId": "93d2da9c-6f62-4540-f0f6-eb3948ae4035"
      },
      "execution_count": null,
      "outputs": [
        {
          "output_type": "display_data",
          "data": {
            "text/plain": [
              "<Figure size 640x480 with 1 Axes>"
            ],
            "image/png": "[encoded data removed]"
          },
          "metadata": {}
        }
      ]
    },
    {
      "cell_type": "code",
      "source": [
        "def f(x):\n",
        "    return x**2\n",
        "\n",
        "a = 0\n",
        "b = 1\n",
        "n = 16\n",
        "Int = gauss_legendre_quadrature(a, b, n, f)\n",
        "print(\"Integral aproximada:\", Int)\n"
      ],
      "metadata": {
        "colab": {
          "base_uri": "https://localhost:8080/"
        },
        "id": "NXni0JL2yIJT",
        "outputId": "cdc46ac1-dbc4-4a4a-a432-9ef8ea73a56d"
      },
      "execution_count": null,
      "outputs": [
        {
          "output_type": "stream",
          "name": "stdout",
          "text": [
            "Integral aproximada: 0.33333333203673987\n"
          ]
        }
      ]
    }
  ]
}